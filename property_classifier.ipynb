{
  "nbformat": 4,
  "nbformat_minor": 0,
  "metadata": {
    "colab": {
      "name": "property_classifier.ipynb",
      "provenance": [],
      "collapsed_sections": []
    },
    "kernelspec": {
      "name": "python3",
      "display_name": "Python 3"
    },
    "widgets": {
      "application/vnd.jupyter.widget-state+json": {
        "0533a812bde54409b74503537c6e915f": {
          "model_module": "@jupyter-widgets/controls",
          "model_name": "VBoxModel",
          "state": {
            "_view_name": "VBoxView",
            "_dom_classes": [],
            "_model_name": "VBoxModel",
            "_view_module": "@jupyter-widgets/controls",
            "_model_module_version": "1.5.0",
            "_view_count": null,
            "_view_module_version": "1.5.0",
            "box_style": "",
            "layout": "IPY_MODEL_066217480da54530bba2584a079dfff6",
            "_model_module": "@jupyter-widgets/controls",
            "children": [
              "IPY_MODEL_79a77fc14a2745aaaa2c3e52440113d4",
              "IPY_MODEL_ffb56b7826ed42e0b3398149cc7e65f2",
              "IPY_MODEL_f9b5b4b0958a4519915d4912285fcd3f",
              "IPY_MODEL_c9377a90620743b186b97ae18076acca",
              "IPY_MODEL_0c7fd23b2636451ab03885d0f1a0f6ed"
            ]
          }
        },
        "066217480da54530bba2584a079dfff6": {
          "model_module": "@jupyter-widgets/base",
          "model_name": "LayoutModel",
          "state": {
            "_view_name": "LayoutView",
            "grid_template_rows": null,
            "right": null,
            "justify_content": null,
            "_view_module": "@jupyter-widgets/base",
            "overflow": null,
            "_model_module_version": "1.2.0",
            "_view_count": null,
            "flex_flow": null,
            "width": null,
            "min_width": null,
            "border": null,
            "align_items": null,
            "bottom": null,
            "_model_module": "@jupyter-widgets/base",
            "top": null,
            "grid_column": null,
            "overflow_y": null,
            "overflow_x": null,
            "grid_auto_flow": null,
            "grid_area": null,
            "grid_template_columns": null,
            "flex": null,
            "_model_name": "LayoutModel",
            "justify_items": null,
            "grid_row": null,
            "max_height": null,
            "align_content": null,
            "visibility": null,
            "align_self": null,
            "height": null,
            "min_height": null,
            "padding": null,
            "grid_auto_rows": null,
            "grid_gap": null,
            "max_width": null,
            "order": null,
            "_view_module_version": "1.2.0",
            "grid_template_areas": null,
            "object_position": null,
            "object_fit": null,
            "grid_auto_columns": null,
            "margin": null,
            "display": null,
            "left": null
          }
        },
        "79a77fc14a2745aaaa2c3e52440113d4": {
          "model_module": "@jupyter-widgets/controls",
          "model_name": "LabelModel",
          "state": {
            "_view_name": "LabelView",
            "style": "IPY_MODEL_bb92647924ed44e38f5e0e7527cd5f77",
            "_dom_classes": [],
            "description": "",
            "_model_name": "LabelModel",
            "placeholder": "​",
            "_view_module": "@jupyter-widgets/controls",
            "_model_module_version": "1.5.0",
            "value": "Select your house!",
            "_view_count": null,
            "_view_module_version": "1.5.0",
            "description_tooltip": null,
            "_model_module": "@jupyter-widgets/controls",
            "layout": "IPY_MODEL_473f750cb8dd4d3fa7c5064490b0291b"
          }
        },
        "ffb56b7826ed42e0b3398149cc7e65f2": {
          "model_module": "@jupyter-widgets/controls",
          "model_name": "FileUploadModel",
          "state": {
            "_view_name": "FileUploadView",
            "_counter": 1,
            "style": "IPY_MODEL_c13b072262e54387a7b2aaca4e71a081",
            "_dom_classes": [],
            "description": "Upload",
            "multiple": false,
            "_model_name": "FileUploadModel",
            "data": [
              null
            ],
            "button_style": "",
            "_view_module": "@jupyter-widgets/controls",
            "_model_module_version": "1.5.0",
            "accept": "",
            "_view_count": null,
            "disabled": false,
            "_view_module_version": "1.5.0",
            "error": "",
            "description_tooltip": null,
            "metadata": [
              {
                "name": "Salt-and-Pepper-House_18.jpg",
                "type": "image/jpeg",
                "size": 332429,
                "lastModified": 1601223945988
              }
            ],
            "_model_module": "@jupyter-widgets/controls",
            "layout": "IPY_MODEL_17136b0938f8492c94796cf1e72dd501",
            "icon": "upload"
          }
        },
        "f9b5b4b0958a4519915d4912285fcd3f": {
          "model_module": "@jupyter-widgets/controls",
          "model_name": "ButtonModel",
          "state": {
            "_view_name": "ButtonView",
            "style": "IPY_MODEL_6ab5380019d84cf18634ed8f048b0570",
            "_dom_classes": [],
            "description": "Classify",
            "_model_name": "ButtonModel",
            "button_style": "",
            "_view_module": "@jupyter-widgets/controls",
            "_model_module_version": "1.5.0",
            "tooltip": "",
            "_view_count": null,
            "disabled": false,
            "_view_module_version": "1.5.0",
            "layout": "IPY_MODEL_ed7484bd9bf842b79c2ab6a1c7a7ba7b",
            "_model_module": "@jupyter-widgets/controls",
            "icon": ""
          }
        },
        "c9377a90620743b186b97ae18076acca": {
          "model_module": "@jupyter-widgets/output",
          "model_name": "OutputModel",
          "state": {
            "_view_name": "OutputView",
            "msg_id": "",
            "_dom_classes": [],
            "_model_name": "OutputModel",
            "outputs": [
              {
                "output_type": "display_data",
                "metadata": {
                  "tags": []
                },
                "image/png": "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\n",
                "text/plain": "<PIL.Image.Image image mode=RGB size=85x128 at 0x7F5A5BF09518>"
              }
            ],
            "_view_module": "@jupyter-widgets/output",
            "_model_module_version": "1.0.0",
            "_view_count": null,
            "_view_module_version": "1.0.0",
            "layout": "IPY_MODEL_046fda7a7fb243db8dd944683ca364b9",
            "_model_module": "@jupyter-widgets/output"
          }
        },
        "0c7fd23b2636451ab03885d0f1a0f6ed": {
          "model_module": "@jupyter-widgets/controls",
          "model_name": "LabelModel",
          "state": {
            "_view_name": "LabelView",
            "style": "IPY_MODEL_223689d9902542518a0d7826200792d2",
            "_dom_classes": [],
            "description": "",
            "_model_name": "LabelModel",
            "placeholder": "​",
            "_view_module": "@jupyter-widgets/controls",
            "_model_module_version": "1.5.0",
            "value": "Prediction: row; Probability: 0.9936",
            "_view_count": null,
            "_view_module_version": "1.5.0",
            "description_tooltip": null,
            "_model_module": "@jupyter-widgets/controls",
            "layout": "IPY_MODEL_69381f2082704b15822e328b846b75ec"
          }
        },
        "bb92647924ed44e38f5e0e7527cd5f77": {
          "model_module": "@jupyter-widgets/controls",
          "model_name": "DescriptionStyleModel",
          "state": {
            "_view_name": "StyleView",
            "_model_name": "DescriptionStyleModel",
            "description_width": "",
            "_view_module": "@jupyter-widgets/base",
            "_model_module_version": "1.5.0",
            "_view_count": null,
            "_view_module_version": "1.2.0",
            "_model_module": "@jupyter-widgets/controls"
          }
        },
        "473f750cb8dd4d3fa7c5064490b0291b": {
          "model_module": "@jupyter-widgets/base",
          "model_name": "LayoutModel",
          "state": {
            "_view_name": "LayoutView",
            "grid_template_rows": null,
            "right": null,
            "justify_content": null,
            "_view_module": "@jupyter-widgets/base",
            "overflow": null,
            "_model_module_version": "1.2.0",
            "_view_count": null,
            "flex_flow": null,
            "width": null,
            "min_width": null,
            "border": null,
            "align_items": null,
            "bottom": null,
            "_model_module": "@jupyter-widgets/base",
            "top": null,
            "grid_column": null,
            "overflow_y": null,
            "overflow_x": null,
            "grid_auto_flow": null,
            "grid_area": null,
            "grid_template_columns": null,
            "flex": null,
            "_model_name": "LayoutModel",
            "justify_items": null,
            "grid_row": null,
            "max_height": null,
            "align_content": null,
            "visibility": null,
            "align_self": null,
            "height": null,
            "min_height": null,
            "padding": null,
            "grid_auto_rows": null,
            "grid_gap": null,
            "max_width": null,
            "order": null,
            "_view_module_version": "1.2.0",
            "grid_template_areas": null,
            "object_position": null,
            "object_fit": null,
            "grid_auto_columns": null,
            "margin": null,
            "display": null,
            "left": null
          }
        },
        "c13b072262e54387a7b2aaca4e71a081": {
          "model_module": "@jupyter-widgets/controls",
          "model_name": "ButtonStyleModel",
          "state": {
            "_view_name": "StyleView",
            "_model_name": "ButtonStyleModel",
            "_view_module": "@jupyter-widgets/base",
            "_model_module_version": "1.5.0",
            "_view_count": null,
            "button_color": null,
            "font_weight": "",
            "_view_module_version": "1.2.0",
            "_model_module": "@jupyter-widgets/controls"
          }
        },
        "17136b0938f8492c94796cf1e72dd501": {
          "model_module": "@jupyter-widgets/base",
          "model_name": "LayoutModel",
          "state": {
            "_view_name": "LayoutView",
            "grid_template_rows": null,
            "right": null,
            "justify_content": null,
            "_view_module": "@jupyter-widgets/base",
            "overflow": null,
            "_model_module_version": "1.2.0",
            "_view_count": null,
            "flex_flow": null,
            "width": null,
            "min_width": null,
            "border": null,
            "align_items": null,
            "bottom": null,
            "_model_module": "@jupyter-widgets/base",
            "top": null,
            "grid_column": null,
            "overflow_y": null,
            "overflow_x": null,
            "grid_auto_flow": null,
            "grid_area": null,
            "grid_template_columns": null,
            "flex": null,
            "_model_name": "LayoutModel",
            "justify_items": null,
            "grid_row": null,
            "max_height": null,
            "align_content": null,
            "visibility": null,
            "align_self": null,
            "height": null,
            "min_height": null,
            "padding": null,
            "grid_auto_rows": null,
            "grid_gap": null,
            "max_width": null,
            "order": null,
            "_view_module_version": "1.2.0",
            "grid_template_areas": null,
            "object_position": null,
            "object_fit": null,
            "grid_auto_columns": null,
            "margin": null,
            "display": null,
            "left": null
          }
        },
        "6ab5380019d84cf18634ed8f048b0570": {
          "model_module": "@jupyter-widgets/controls",
          "model_name": "ButtonStyleModel",
          "state": {
            "_view_name": "StyleView",
            "_model_name": "ButtonStyleModel",
            "_view_module": "@jupyter-widgets/base",
            "_model_module_version": "1.5.0",
            "_view_count": null,
            "button_color": null,
            "font_weight": "",
            "_view_module_version": "1.2.0",
            "_model_module": "@jupyter-widgets/controls"
          }
        },
        "ed7484bd9bf842b79c2ab6a1c7a7ba7b": {
          "model_module": "@jupyter-widgets/base",
          "model_name": "LayoutModel",
          "state": {
            "_view_name": "LayoutView",
            "grid_template_rows": null,
            "right": null,
            "justify_content": null,
            "_view_module": "@jupyter-widgets/base",
            "overflow": null,
            "_model_module_version": "1.2.0",
            "_view_count": null,
            "flex_flow": null,
            "width": null,
            "min_width": null,
            "border": null,
            "align_items": null,
            "bottom": null,
            "_model_module": "@jupyter-widgets/base",
            "top": null,
            "grid_column": null,
            "overflow_y": null,
            "overflow_x": null,
            "grid_auto_flow": null,
            "grid_area": null,
            "grid_template_columns": null,
            "flex": null,
            "_model_name": "LayoutModel",
            "justify_items": null,
            "grid_row": null,
            "max_height": null,
            "align_content": null,
            "visibility": null,
            "align_self": null,
            "height": null,
            "min_height": null,
            "padding": null,
            "grid_auto_rows": null,
            "grid_gap": null,
            "max_width": null,
            "order": null,
            "_view_module_version": "1.2.0",
            "grid_template_areas": null,
            "object_position": null,
            "object_fit": null,
            "grid_auto_columns": null,
            "margin": null,
            "display": null,
            "left": null
          }
        },
        "223689d9902542518a0d7826200792d2": {
          "model_module": "@jupyter-widgets/controls",
          "model_name": "DescriptionStyleModel",
          "state": {
            "_view_name": "StyleView",
            "_model_name": "DescriptionStyleModel",
            "description_width": "",
            "_view_module": "@jupyter-widgets/base",
            "_model_module_version": "1.5.0",
            "_view_count": null,
            "_view_module_version": "1.2.0",
            "_model_module": "@jupyter-widgets/controls"
          }
        },
        "69381f2082704b15822e328b846b75ec": {
          "model_module": "@jupyter-widgets/base",
          "model_name": "LayoutModel",
          "state": {
            "_view_name": "LayoutView",
            "grid_template_rows": null,
            "right": null,
            "justify_content": null,
            "_view_module": "@jupyter-widgets/base",
            "overflow": null,
            "_model_module_version": "1.2.0",
            "_view_count": null,
            "flex_flow": null,
            "width": null,
            "min_width": null,
            "border": null,
            "align_items": null,
            "bottom": null,
            "_model_module": "@jupyter-widgets/base",
            "top": null,
            "grid_column": null,
            "overflow_y": null,
            "overflow_x": null,
            "grid_auto_flow": null,
            "grid_area": null,
            "grid_template_columns": null,
            "flex": null,
            "_model_name": "LayoutModel",
            "justify_items": null,
            "grid_row": null,
            "max_height": null,
            "align_content": null,
            "visibility": null,
            "align_self": null,
            "height": null,
            "min_height": null,
            "padding": null,
            "grid_auto_rows": null,
            "grid_gap": null,
            "max_width": null,
            "order": null,
            "_view_module_version": "1.2.0",
            "grid_template_areas": null,
            "object_position": null,
            "object_fit": null,
            "grid_auto_columns": null,
            "margin": null,
            "display": null,
            "left": null
          }
        },
        "046fda7a7fb243db8dd944683ca364b9": {
          "model_module": "@jupyter-widgets/base",
          "model_name": "LayoutModel",
          "state": {
            "_view_name": "LayoutView",
            "grid_template_rows": null,
            "right": null,
            "justify_content": null,
            "_view_module": "@jupyter-widgets/base",
            "overflow": null,
            "_model_module_version": "1.2.0",
            "_view_count": null,
            "flex_flow": null,
            "width": null,
            "min_width": null,
            "border": null,
            "align_items": null,
            "bottom": null,
            "_model_module": "@jupyter-widgets/base",
            "top": null,
            "grid_column": null,
            "overflow_y": null,
            "overflow_x": null,
            "grid_auto_flow": null,
            "grid_area": null,
            "grid_template_columns": null,
            "flex": null,
            "_model_name": "LayoutModel",
            "justify_items": null,
            "grid_row": null,
            "max_height": null,
            "align_content": null,
            "visibility": null,
            "align_self": null,
            "height": null,
            "min_height": null,
            "padding": null,
            "grid_auto_rows": null,
            "grid_gap": null,
            "max_width": null,
            "order": null,
            "_view_module_version": "1.2.0",
            "grid_template_areas": null,
            "object_position": null,
            "object_fit": null,
            "grid_auto_columns": null,
            "margin": null,
            "display": null,
            "left": null
          }
        }
      }
    }
  },
  "cells": [
    {
      "cell_type": "code",
      "metadata": {
        "id": "PIrZShuPcEuR"
      },
      "source": [
        "!pip install -Uqq fastbook\n",
        "import fastbook\n",
        "fastbook.setup_book()"
      ],
      "execution_count": 1,
      "outputs": []
    },
    {
      "cell_type": "code",
      "metadata": {
        "id": "REndyh7MeIvQ"
      },
      "source": [
        "#hide\n",
        "from fastbook import *\n",
        "from fastai.vision.widgets import *"
      ],
      "execution_count": 2,
      "outputs": []
    },
    {
      "cell_type": "code",
      "metadata": {
        "id": "YzVVtDYUdZiW",
        "outputId": "073e744d-1e17-4958-9156-20c00ed846b0",
        "colab": {
          "base_uri": "https://localhost:8080/",
          "height": 273,
          "referenced_widgets": [
            "0533a812bde54409b74503537c6e915f",
            "066217480da54530bba2584a079dfff6",
            "79a77fc14a2745aaaa2c3e52440113d4",
            "ffb56b7826ed42e0b3398149cc7e65f2",
            "f9b5b4b0958a4519915d4912285fcd3f",
            "c9377a90620743b186b97ae18076acca",
            "0c7fd23b2636451ab03885d0f1a0f6ed",
            "bb92647924ed44e38f5e0e7527cd5f77",
            "473f750cb8dd4d3fa7c5064490b0291b",
            "c13b072262e54387a7b2aaca4e71a081",
            "17136b0938f8492c94796cf1e72dd501",
            "6ab5380019d84cf18634ed8f048b0570",
            "ed7484bd9bf842b79c2ab6a1c7a7ba7b",
            "223689d9902542518a0d7826200792d2",
            "69381f2082704b15822e328b846b75ec",
            "046fda7a7fb243db8dd944683ca364b9"
          ]
        }
      },
      "source": [
        "learn_inf = load_learner('export.pkl')\n",
        "btn_run = widgets.Button(description='Classify')\n",
        "btn_upload = widgets.FileUpload()\n",
        "out_pl = widgets.Output()\n",
        "lbl_pred = widgets.Label()\n",
        "def on_click_classify(change):\n",
        "    img = PILImage.create(btn_upload.data[-1])\n",
        "    out_pl.clear_output()\n",
        "    with out_pl: display(img.to_thumb(128,128))\n",
        "    pred,pred_idx,probs = learn_inf.predict(img)\n",
        "    lbl_pred.value = f'Prediction: {pred}; Probability: {probs[pred_idx]:.04f}'\n",
        "\n",
        "btn_run.on_click(on_click_classify)\n",
        "\n",
        "VBox([widgets.Label('Select your house!'), \n",
        "      btn_upload, btn_run, out_pl, lbl_pred])"
      ],
      "execution_count": 8,
      "outputs": [
        {
          "output_type": "display_data",
          "data": {
            "application/vnd.jupyter.widget-view+json": {
              "model_id": "0533a812bde54409b74503537c6e915f",
              "version_minor": 0,
              "version_major": 2
            },
            "text/plain": [
              "VBox(children=(Label(value='Select your house!'), FileUpload(value={}, description='Upload'), Button(descripti…"
            ]
          },
          "metadata": {
            "tags": []
          }
        },
        {
          "output_type": "display_data",
          "data": {
            "text/html": [
              ""
            ],
            "text/plain": [
              "<IPython.core.display.HTML object>"
            ]
          },
          "metadata": {
            "tags": []
          }
        }
      ]
    }
  ]
}